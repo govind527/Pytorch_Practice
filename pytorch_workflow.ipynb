{
  "cells": [
    {
      "cell_type": "markdown",
      "metadata": {
        "id": "view-in-github",
        "colab_type": "text"
      },
      "source": [
        "<a href=\"https://colab.research.google.com/github/govind527/Pytorch_Practice/blob/main/pytorch_workflow.ipynb\" target=\"_parent\"><img src=\"https://colab.research.google.com/assets/colab-badge.svg\" alt=\"Open In Colab\"/></a>"
      ]
    },
    {
      "cell_type": "code",
      "execution_count": 1,
      "id": "4e5f9462-9d66-4d36-9c00-c97940b87088",
      "metadata": {
        "colab": {
          "base_uri": "https://localhost:8080/"
        },
        "id": "4e5f9462-9d66-4d36-9c00-c97940b87088",
        "outputId": "613cb880-4f9a-43f6-816d-86d8882b79fc"
      },
      "outputs": [
        {
          "output_type": "execute_result",
          "data": {
            "text/plain": [
              "'2.6.0+cu124'"
            ],
            "application/vnd.google.colaboratory.intrinsic+json": {
              "type": "string"
            }
          },
          "metadata": {},
          "execution_count": 1
        }
      ],
      "source": [
        "import torch\n",
        "from torch import nn\n",
        "import matplotlib.pyplot as plt\n",
        "torch.__version__"
      ]
    },
    {
      "cell_type": "code",
      "execution_count": 2,
      "id": "870fb15e-5b26-44d2-9afd-0e8c9a69dbf8",
      "metadata": {
        "colab": {
          "base_uri": "https://localhost:8080/"
        },
        "id": "870fb15e-5b26-44d2-9afd-0e8c9a69dbf8",
        "outputId": "bfef95b4-247a-473d-fd24-7fd380da9a5e"
      },
      "outputs": [
        {
          "output_type": "execute_result",
          "data": {
            "text/plain": [
              "(tensor([[0.0000],\n",
              "         [0.0200],\n",
              "         [0.0400],\n",
              "         [0.0600],\n",
              "         [0.0800],\n",
              "         [0.1000],\n",
              "         [0.1200],\n",
              "         [0.1400],\n",
              "         [0.1600],\n",
              "         [0.1800]]),\n",
              " tensor([[0.3000],\n",
              "         [0.3140],\n",
              "         [0.3280],\n",
              "         [0.3420],\n",
              "         [0.3560],\n",
              "         [0.3700],\n",
              "         [0.3840],\n",
              "         [0.3980],\n",
              "         [0.4120],\n",
              "         [0.4260]]))"
            ]
          },
          "metadata": {},
          "execution_count": 2
        }
      ],
      "source": [
        "weight=0.7\n",
        "bias=0.3\n",
        "## create a range of numbers\n",
        "start =0\n",
        "end =1\n",
        "step=0.02\n",
        "X=torch.arange(start,end,step).unsqueeze(dim=1)\n",
        "y=weight*X+bias\n",
        "X[:10],y[:10]\n"
      ]
    },
    {
      "cell_type": "code",
      "execution_count": 3,
      "id": "c58c0633-ab75-473e-8dba-8fd9f0136bf5",
      "metadata": {
        "colab": {
          "base_uri": "https://localhost:8080/"
        },
        "id": "c58c0633-ab75-473e-8dba-8fd9f0136bf5",
        "outputId": "1953f687-8871-4ea9-c72a-2b3d5ebf8112"
      },
      "outputs": [
        {
          "output_type": "execute_result",
          "data": {
            "text/plain": [
              "(40, 40)"
            ]
          },
          "metadata": {},
          "execution_count": 3
        }
      ],
      "source": [
        "#create a train/test split\n",
        "train_split=int(0.8*len(X))\n",
        "X_train,y_train=X[:train_split],y[:train_split]\n",
        "X_test,y_test=X[train_split:],y[train_split:]\n",
        "len(X_train),len(y_train)"
      ]
    },
    {
      "cell_type": "code",
      "execution_count": 4,
      "id": "674b8486-ad1f-451f-827c-6247a06d01a5",
      "metadata": {
        "id": "674b8486-ad1f-451f-827c-6247a06d01a5"
      },
      "outputs": [],
      "source": [
        "def plot_predictions(train_data=X_train,\n",
        "                     train_labels=y_train,\n",
        "                     test_data=X_test,\n",
        "                     test_labels=y_test,\n",
        "                     predictions=None):\n",
        "    plt.figure(figsize=(10,7))\n",
        "    \"\"\" train and test data comparions\n",
        "    \"\"\"\n",
        "    plt.scatter(train_data,train_labels,c=\"b\",s=4,label=\"training data\")\n",
        "    plt.scatter(test_data,test_labels,c=\"g\",s=4,label=\"test data\")\n",
        "\n",
        "    if predictions is not None:\n",
        "\n",
        "        plt.scatter(test_data,predictions,c=\"r\",s=4,label=\"preditions\")\n",
        "\n",
        "    plt.legend(prop={\"size\":14});\n",
        "\n",
        "##plt.show()\n",
        "\n"
      ]
    },
    {
      "cell_type": "code",
      "execution_count": 5,
      "id": "fc838319-c628-4263-83cc-f0053f9feabc",
      "metadata": {
        "colab": {
          "base_uri": "https://localhost:8080/",
          "height": 599
        },
        "id": "fc838319-c628-4263-83cc-f0053f9feabc",
        "outputId": "47987f78-2079-4d51-babd-7fa711f63d5a"
      },
      "outputs": [
        {
          "output_type": "display_data",
          "data": {
            "text/plain": [
              "<Figure size 1000x700 with 1 Axes>"
            ],
            "image/png": "[encoded data removed]"
          },
          "metadata": {}
        }
      ],
      "source": [
        "plot_predictions()"
      ]
    },
    {
      "cell_type": "code",
      "execution_count": 6,
      "id": "e0f07023-e792-4fb7-a2c7-f702bd75f1af",
      "metadata": {
        "id": "e0f07023-e792-4fb7-a2c7-f702bd75f1af"
      },
      "outputs": [],
      "source": [
        "## our first pytorch model we will doing linear regeression\n",
        "\n",
        "class LinearRegressionModel(nn.Module):\n",
        "    def __init__(self):\n",
        "        super(LinearRegressionModel, self).__init__()\n",
        "        self.weights=nn.Parameter(torch.randn(1,\n",
        "                                              requires_grad=True,\n",
        "                                              dtype=torch.float))\n",
        "        self.bias=nn.Parameter(torch.randn(1,\n",
        "                                           requires_grad=True,\n",
        "                                           dtype=torch.float))\n",
        "\n",
        "    def forward(self,x:torch.Tensor):\n",
        "        return self.weights*x+self.bias"
      ]
    },
    {
      "cell_type": "code",
      "execution_count": 7,
      "id": "7deee83f-7263-4852-9ce5-9d88e1ac752d",
      "metadata": {
        "colab": {
          "base_uri": "https://localhost:8080/"
        },
        "id": "7deee83f-7263-4852-9ce5-9d88e1ac752d",
        "outputId": "79c44d61-9014-486c-cb90-d3fe3c3137d0"
      },
      "outputs": [
        {
          "output_type": "execute_result",
          "data": {
            "text/plain": [
              "[Parameter containing:\n",
              " tensor([0.3367], requires_grad=True),\n",
              " Parameter containing:\n",
              " tensor([0.1288], requires_grad=True)]"
            ]
          },
          "metadata": {},
          "execution_count": 7
        }
      ],
      "source": [
        "torch.manual_seed(42)\n",
        "Model_0=LinearRegressionModel()\n",
        "list(Model_0.parameters())"
      ]
    },
    {
      "cell_type": "code",
      "execution_count": 8,
      "id": "8959e871-fb15-4d27-896a-0a5558c7d767",
      "metadata": {
        "colab": {
          "base_uri": "https://localhost:8080/"
        },
        "id": "8959e871-fb15-4d27-896a-0a5558c7d767",
        "outputId": "5ab15f3b-80fe-49cc-8604-10fdf9fe8c04"
      },
      "outputs": [
        {
          "output_type": "execute_result",
          "data": {
            "text/plain": [
              "OrderedDict([('weights', tensor([0.3367])), ('bias', tensor([0.1288]))])"
            ]
          },
          "metadata": {},
          "execution_count": 8
        }
      ],
      "source": [
        "Model_0.state_dict()"
      ]
    },
    {
      "cell_type": "code",
      "source": [
        "with torch.inference_mode():\n",
        "  y_preds=Model_0(X_test)\n",
        "y_preds"
      ],
      "metadata": {
        "colab": {
          "base_uri": "https://localhost:8080/"
        },
        "id": "t9Yj__djBr1q",
        "outputId": "86e2776b-132d-40c9-e8e7-8a1ecde75f13"
      },
      "id": "t9Yj__djBr1q",
      "execution_count": 9,
      "outputs": [
        {
          "output_type": "execute_result",
          "data": {
            "text/plain": [
              "tensor([[0.3982],\n",
              "        [0.4049],\n",
              "        [0.4116],\n",
              "        [0.4184],\n",
              "        [0.4251],\n",
              "        [0.4318],\n",
              "        [0.4386],\n",
              "        [0.4453],\n",
              "        [0.4520],\n",
              "        [0.4588]])"
            ]
          },
          "metadata": {},
          "execution_count": 9
        }
      ]
    },
    {
      "cell_type": "code",
      "source": [
        "y_test"
      ],
      "metadata": {
        "colab": {
          "base_uri": "https://localhost:8080/"
        },
        "id": "8r8vO4vkD3ZH",
        "outputId": "239f8238-078d-4e44-d2fa-06f1dbecbe15"
      },
      "id": "8r8vO4vkD3ZH",
      "execution_count": 10,
      "outputs": [
        {
          "output_type": "execute_result",
          "data": {
            "text/plain": [
              "tensor([[0.8600],\n",
              "        [0.8740],\n",
              "        [0.8880],\n",
              "        [0.9020],\n",
              "        [0.9160],\n",
              "        [0.9300],\n",
              "        [0.9440],\n",
              "        [0.9580],\n",
              "        [0.9720],\n",
              "        [0.9860]])"
            ]
          },
          "metadata": {},
          "execution_count": 10
        }
      ]
    },
    {
      "cell_type": "code",
      "source": [
        "plot_predictions(predictions=y_preds)"
      ],
      "metadata": {
        "colab": {
          "base_uri": "https://localhost:8080/",
          "height": 599
        },
        "id": "svp8zxN7EAG3",
        "outputId": "c28bba1b-246c-4a03-8e33-3a3e8b7bbeb4"
      },
      "id": "svp8zxN7EAG3",
      "execution_count": 11,
      "outputs": [
        {
          "output_type": "display_data",
          "data": {
            "text/plain": [
              "<Figure size 1000x700 with 1 Axes>"
            ],
            "image/png": "[encoded data removed]"
          },
          "metadata": {}
        }
      ]
    },
    {
      "cell_type": "code",
      "source": [
        "##Train a model\n",
        "## unknown parameters to known parameters(poor to good representation)\n",
        "\n",
        "Model_0.state_dict()"
      ],
      "metadata": {
        "colab": {
          "base_uri": "https://localhost:8080/"
        },
        "id": "YyvHuHRjEH8e",
        "outputId": "72fa2cc6-1ad1-4efa-f4db-ea4a41c231a6"
      },
      "id": "YyvHuHRjEH8e",
      "execution_count": 12,
      "outputs": [
        {
          "output_type": "execute_result",
          "data": {
            "text/plain": [
              "OrderedDict([('weights', tensor([0.3367])), ('bias', tensor([0.1288]))])"
            ]
          },
          "metadata": {},
          "execution_count": 12
        }
      ]
    },
    {
      "cell_type": "code",
      "source": [
        "## setup a loss function\n",
        "loss_fn=nn.L1Loss()\n",
        "\n",
        "\n",
        "## setup an optimizer\n",
        "\n",
        "optimizer=torch.optim.SGD(params=Model_0.parameters(),lr=0.01)"
      ],
      "metadata": {
        "id": "II1iNkbjkxbz"
      },
      "id": "II1iNkbjkxbz",
      "execution_count": 13,
      "outputs": []
    },
    {
      "cell_type": "code",
      "source": [
        "## training loop building and testing loop\n",
        "print(loss_fn)\n"
      ],
      "metadata": {
        "colab": {
          "base_uri": "https://localhost:8080/"
        },
        "id": "ZtTxrjKcovsa",
        "outputId": "4f31e7c8-281f-4150-adb0-1171b552b3cd"
      },
      "id": "ZtTxrjKcovsa",
      "execution_count": 14,
      "outputs": [
        {
          "output_type": "stream",
          "name": "stdout",
          "text": [
            "L1Loss()\n"
          ]
        }
      ]
    },
    {
      "cell_type": "code",
      "source": [
        "torch.manual_seed(42)\n",
        "\n",
        "epochs=200\n",
        "\n",
        "## Tracking experiment\n",
        "epoch_count=[]\n",
        "loss_values=[]\n",
        "test_loss_values=[]\n",
        "\n",
        "\n",
        "### training\n",
        "## 0. loop through data\n",
        "\n",
        "for epoch in range(epochs):\n",
        "    Model_0.train()\n",
        "    ## 1.forwar pass\n",
        "    y_pred=Model_0(X_train)\n",
        "    ##2. calculate the loss\n",
        "    loss=loss_fn(y_pred,y_train)\n",
        "    ##3.optimizer zero grad\n",
        "    optimizer.zero_grad()\n",
        "\n",
        "    ##4. backpropagation\n",
        "    loss.backward()\n",
        "\n",
        "    ## 5.step the optimizer\n",
        "    optimizer.step()\n",
        "\n",
        "    Model_0.eval()\n",
        "\n",
        "    with torch.inference_mode():\n",
        "        ## 1.forward pass\n",
        "        test_pred=Model_0(X_test)\n",
        "        test_loss=loss_fn(test_pred,y_test)\n",
        "        if epoch%10==0:\n",
        "            epoch_count.append(epoch)\n",
        "            loss_values.append(loss)\n",
        "            test_loss_values.append(test_loss)\n",
        "            print(f\"epoch: {epoch} | loss: {loss} | test_loss: {test_loss}\")\n",
        "            print(Model_0.state_dict())\n"
      ],
      "metadata": {
        "colab": {
          "base_uri": "https://localhost:8080/"
        },
        "id": "5n-KbU_lo-hM",
        "outputId": "49dbf62d-a860-457c-b116-7dfcef39c3fc"
      },
      "id": "5n-KbU_lo-hM",
      "execution_count": 15,
      "outputs": [
        {
          "output_type": "stream",
          "name": "stdout",
          "text": [
            "epoch: 0 | loss: 0.31288138031959534 | test_loss: 0.48106518387794495\n",
            "OrderedDict([('weights', tensor([0.3406])), ('bias', tensor([0.1388]))])\n",
            "epoch: 10 | loss: 0.1976713240146637 | test_loss: 0.3463551998138428\n",
            "OrderedDict([('weights', tensor([0.3796])), ('bias', tensor([0.2388]))])\n",
            "epoch: 20 | loss: 0.08908725529909134 | test_loss: 0.21729660034179688\n",
            "OrderedDict([('weights', tensor([0.4184])), ('bias', tensor([0.3333]))])\n",
            "epoch: 30 | loss: 0.053148526698350906 | test_loss: 0.14464017748832703\n",
            "OrderedDict([('weights', tensor([0.4512])), ('bias', tensor([0.3768]))])\n",
            "epoch: 40 | loss: 0.04543796554207802 | test_loss: 0.11360953003168106\n",
            "OrderedDict([('weights', tensor([0.4748])), ('bias', tensor([0.3868]))])\n",
            "epoch: 50 | loss: 0.04167863354086876 | test_loss: 0.09919948130846024\n",
            "OrderedDict([('weights', tensor([0.4938])), ('bias', tensor([0.3843]))])\n",
            "epoch: 60 | loss: 0.03818932920694351 | test_loss: 0.08886633068323135\n",
            "OrderedDict([('weights', tensor([0.5116])), ('bias', tensor([0.3788]))])\n",
            "epoch: 70 | loss: 0.03476089984178543 | test_loss: 0.0805937647819519\n",
            "OrderedDict([('weights', tensor([0.5288])), ('bias', tensor([0.3718]))])\n",
            "epoch: 80 | loss: 0.03132382780313492 | test_loss: 0.07232122868299484\n",
            "OrderedDict([('weights', tensor([0.5459])), ('bias', tensor([0.3648]))])\n",
            "epoch: 90 | loss: 0.02788739837706089 | test_loss: 0.06473556160926819\n",
            "OrderedDict([('weights', tensor([0.5629])), ('bias', tensor([0.3573]))])\n",
            "epoch: 100 | loss: 0.024458957836031914 | test_loss: 0.05646304413676262\n",
            "OrderedDict([('weights', tensor([0.5800])), ('bias', tensor([0.3503]))])\n",
            "epoch: 110 | loss: 0.021020207554101944 | test_loss: 0.04819049686193466\n",
            "OrderedDict([('weights', tensor([0.5972])), ('bias', tensor([0.3433]))])\n",
            "epoch: 120 | loss: 0.01758546568453312 | test_loss: 0.04060482233762741\n",
            "OrderedDict([('weights', tensor([0.6141])), ('bias', tensor([0.3358]))])\n",
            "epoch: 130 | loss: 0.014155393466353416 | test_loss: 0.03233227878808975\n",
            "OrderedDict([('weights', tensor([0.6313])), ('bias', tensor([0.3288]))])\n",
            "epoch: 140 | loss: 0.010716589167714119 | test_loss: 0.024059748277068138\n",
            "OrderedDict([('weights', tensor([0.6485])), ('bias', tensor([0.3218]))])\n",
            "epoch: 150 | loss: 0.0072835334576666355 | test_loss: 0.016474086791276932\n",
            "OrderedDict([('weights', tensor([0.6654])), ('bias', tensor([0.3143]))])\n",
            "epoch: 160 | loss: 0.0038517764769494534 | test_loss: 0.008201557211577892\n",
            "OrderedDict([('weights', tensor([0.6826])), ('bias', tensor([0.3073]))])\n",
            "epoch: 170 | loss: 0.008932482451200485 | test_loss: 0.005023092031478882\n",
            "OrderedDict([('weights', tensor([0.6951])), ('bias', tensor([0.2993]))])\n",
            "epoch: 180 | loss: 0.008932482451200485 | test_loss: 0.005023092031478882\n",
            "OrderedDict([('weights', tensor([0.6951])), ('bias', tensor([0.2993]))])\n",
            "epoch: 190 | loss: 0.008932482451200485 | test_loss: 0.005023092031478882\n",
            "OrderedDict([('weights', tensor([0.6951])), ('bias', tensor([0.2993]))])\n"
          ]
        }
      ]
    },
    {
      "cell_type": "code",
      "source": [
        "## plot loss curves\n",
        "plt.plot(epoch_count,torch.tensor(loss_values).numpy(),label=\"train Loss\")\n",
        "plt.plot(epoch_count,test_loss_values,label=\"test Loss\")\n",
        "plt.title(\"Loss curves\")\n",
        "plt.ylabel(\"Loss\")\n",
        "plt.xlabel(\"Epochs\")\n",
        "plt.legend();"
      ],
      "metadata": {
        "colab": {
          "base_uri": "https://localhost:8080/",
          "height": 472
        },
        "id": "iqCI2aHzF_X7",
        "outputId": "ebf8dfe1-f512-4998-dd42-704e9e2582a3"
      },
      "id": "iqCI2aHzF_X7",
      "execution_count": 16,
      "outputs": [
        {
          "output_type": "display_data",
          "data": {
            "text/plain": [
              "<Figure size 640x480 with 1 Axes>"
            ],
            "image/png": "[encoded data removed]"
          },
          "metadata": {}
        }
      ]
    },
    {
      "cell_type": "code",
      "source": [
        "with torch.inference_mode():\n",
        "  y_preds_new=Model_0(X_test)\n",
        "y_preds"
      ],
      "metadata": {
        "colab": {
          "base_uri": "https://localhost:8080/"
        },
        "id": "FnCtExlfApCa",
        "outputId": "da524167-8330-4707-bcdf-338a2e31089d"
      },
      "id": "FnCtExlfApCa",
      "execution_count": 17,
      "outputs": [
        {
          "output_type": "execute_result",
          "data": {
            "text/plain": [
              "tensor([[0.3982],\n",
              "        [0.4049],\n",
              "        [0.4116],\n",
              "        [0.4184],\n",
              "        [0.4251],\n",
              "        [0.4318],\n",
              "        [0.4386],\n",
              "        [0.4453],\n",
              "        [0.4520],\n",
              "        [0.4588]])"
            ]
          },
          "metadata": {},
          "execution_count": 17
        }
      ]
    },
    {
      "cell_type": "code",
      "source": [
        "plot_predictions(predictions=y_preds_new)"
      ],
      "metadata": {
        "colab": {
          "base_uri": "https://localhost:8080/",
          "height": 599
        },
        "id": "gMh-rPvsJ45P",
        "outputId": "2fa60ac7-c842-4451-8966-bc26186c7e80"
      },
      "id": "gMh-rPvsJ45P",
      "execution_count": 18,
      "outputs": [
        {
          "output_type": "display_data",
          "data": {
            "text/plain": [
              "<Figure size 1000x700 with 1 Axes>"
            ],
            "image/png": "[encoded data removed]"
          },
          "metadata": {}
        }
      ]
    },
    {
      "cell_type": "code",
      "source": [
        "Model_0.state_dict()"
      ],
      "metadata": {
        "colab": {
          "base_uri": "https://localhost:8080/"
        },
        "id": "4_7Bks-uFSzR",
        "outputId": "44efd37a-8e13-4d2b-f821-b2f368ef58fc"
      },
      "id": "4_7Bks-uFSzR",
      "execution_count": 19,
      "outputs": [
        {
          "output_type": "execute_result",
          "data": {
            "text/plain": [
              "OrderedDict([('weights', tensor([0.6990])), ('bias', tensor([0.3093]))])"
            ]
          },
          "metadata": {},
          "execution_count": 19
        }
      ]
    },
    {
      "cell_type": "code",
      "source": [],
      "metadata": {
        "id": "8S9u5-qdI3Vj"
      },
      "id": "8S9u5-qdI3Vj",
      "execution_count": 19,
      "outputs": []
    }
  ],
  "metadata": {
    "kernelspec": {
      "display_name": "Python 3 (ipykernel)",
      "language": "python",
      "name": "python3"
    },
    "language_info": {
      "codemirror_mode": {
        "name": "ipython",
        "version": 3
      },
      "file_extension": ".py",
      "mimetype": "text/x-python",
      "name": "python",
      "nbconvert_exporter": "python",
      "pygments_lexer": "ipython3",
      "version": "3.11.7"
    },
    "colab": {
      "provenance": [],
      "include_colab_link": true
    }
  },
  "nbformat": 4,
  "nbformat_minor": 5
}