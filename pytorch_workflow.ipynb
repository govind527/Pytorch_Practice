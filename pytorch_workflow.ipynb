{
  "cells": [
    {
      "cell_type": "markdown",
      "metadata": {
        "id": "view-in-github",
        "colab_type": "text"
      },
      "source": [
        "<a href=\"https://colab.research.google.com/github/govind527/Pytorch_Practice/blob/main/pytorch_workflow.ipynb\" target=\"_parent\"><img src=\"https://colab.research.google.com/assets/colab-badge.svg\" alt=\"Open In Colab\"/></a>"
      ]
    },
    {
      "cell_type": "code",
      "execution_count": 21,
      "id": "4e5f9462-9d66-4d36-9c00-c97940b87088",
      "metadata": {
        "colab": {
          "base_uri": "https://localhost:8080/",
          "height": 36
        },
        "id": "4e5f9462-9d66-4d36-9c00-c97940b87088",
        "outputId": "5fe2ea24-7ba5-4630-9e55-f8715c97e27b"
      },
      "outputs": [
        {
          "output_type": "execute_result",
          "data": {
            "text/plain": [
              "'2.6.0+cu124'"
            ],
            "application/vnd.google.colaboratory.intrinsic+json": {
              "type": "string"
            }
          },
          "metadata": {},
          "execution_count": 21
        }
      ],
      "source": [
        "import torch\n",
        "from torch import nn\n",
        "import matplotlib.pyplot as plt\n",
        "torch.__version__"
      ]
    },
    {
      "cell_type": "code",
      "execution_count": 45,
      "id": "870fb15e-5b26-44d2-9afd-0e8c9a69dbf8",
      "metadata": {
        "colab": {
          "base_uri": "https://localhost:8080/"
        },
        "id": "870fb15e-5b26-44d2-9afd-0e8c9a69dbf8",
        "outputId": "c46951cc-40c1-4f39-d922-729cf0c9fd76"
      },
      "outputs": [
        {
          "output_type": "execute_result",
          "data": {
            "text/plain": [
              "(tensor([[0.0000],\n",
              "         [0.0200],\n",
              "         [0.0400],\n",
              "         [0.0600],\n",
              "         [0.0800],\n",
              "         [0.1000],\n",
              "         [0.1200],\n",
              "         [0.1400],\n",
              "         [0.1600],\n",
              "         [0.1800]]),\n",
              " tensor([[0.3000],\n",
              "         [0.3140],\n",
              "         [0.3280],\n",
              "         [0.3420],\n",
              "         [0.3560],\n",
              "         [0.3700],\n",
              "         [0.3840],\n",
              "         [0.3980],\n",
              "         [0.4120],\n",
              "         [0.4260]]))"
            ]
          },
          "metadata": {},
          "execution_count": 45
        }
      ],
      "source": [
        "weight=0.7\n",
        "bias=0.3\n",
        "## create a range of numbers\n",
        "start =0\n",
        "end =1\n",
        "step=0.02\n",
        "X=torch.arange(start,end,step).unsqueeze(dim=1)\n",
        "y=weight*X+bias\n",
        "X[:10],y[:10]\n"
      ]
    },
    {
      "cell_type": "code",
      "execution_count": 46,
      "id": "c58c0633-ab75-473e-8dba-8fd9f0136bf5",
      "metadata": {
        "colab": {
          "base_uri": "https://localhost:8080/"
        },
        "id": "c58c0633-ab75-473e-8dba-8fd9f0136bf5",
        "outputId": "a4cff113-fec4-4e1a-93ca-bb96ded1f7c8"
      },
      "outputs": [
        {
          "output_type": "execute_result",
          "data": {
            "text/plain": [
              "(40, 40)"
            ]
          },
          "metadata": {},
          "execution_count": 46
        }
      ],
      "source": [
        "#create a train/test split\n",
        "train_split=int(0.8*len(X))\n",
        "X_train,y_train=X[:train_split],y[:train_split]\n",
        "X_test,y_test=X[train_split:],y[train_split:]\n",
        "len(X_train),len(y_train)"
      ]
    },
    {
      "cell_type": "code",
      "execution_count": 47,
      "id": "674b8486-ad1f-451f-827c-6247a06d01a5",
      "metadata": {
        "id": "674b8486-ad1f-451f-827c-6247a06d01a5"
      },
      "outputs": [],
      "source": [
        "def plot_predictions(train_data=X_train,\n",
        "                     train_labels=y_train,\n",
        "                     test_data=X_test,\n",
        "                     test_labels=y_test,\n",
        "                     predictions=None):\n",
        "    plt.figure(figsize=(10,7))\n",
        "    \"\"\" train and test data comparions\n",
        "    \"\"\"\n",
        "    plt.scatter(train_data,train_labels,c=\"b\",s=4,label=\"training data\")\n",
        "    plt.scatter(test_data,test_labels,c=\"g\",s=4,label=\"test data\")\n",
        "\n",
        "    if predictions is not None:\n",
        "\n",
        "        plt.scatter(test_data,predictions,c=\"r\",s=4,label=\"preditions\")\n",
        "\n",
        "    plt.legend(prop={\"size\":14});\n",
        "\n",
        "##plt.show()\n",
        "\n"
      ]
    },
    {
      "cell_type": "code",
      "execution_count": 48,
      "id": "fc838319-c628-4263-83cc-f0053f9feabc",
      "metadata": {
        "colab": {
          "base_uri": "https://localhost:8080/",
          "height": 599
        },
        "id": "fc838319-c628-4263-83cc-f0053f9feabc",
        "outputId": "147e446b-7428-4b07-a4de-62684d000e0f"
      },
      "outputs": [
        {
          "output_type": "display_data",
          "data": {
            "text/plain": [
              "<Figure size 1000x700 with 1 Axes>"
            ],
            "image/png": "[encoded data removed]"
          },
          "metadata": {}
        }
      ],
      "source": [
        "plot_predictions()"
      ]
    },
    {
      "cell_type": "code",
      "execution_count": 49,
      "id": "e0f07023-e792-4fb7-a2c7-f702bd75f1af",
      "metadata": {
        "id": "e0f07023-e792-4fb7-a2c7-f702bd75f1af"
      },
      "outputs": [],
      "source": [
        "## our first pytorch model we will doing linear regeression\n",
        "\n",
        "class LinearRegressionModel(nn.Module):\n",
        "    def __init__(self):\n",
        "        super(LinearRegressionModel, self).__init__()\n",
        "        self.weights=nn.Parameter(torch.randn(1,\n",
        "                                              requires_grad=True,\n",
        "                                              dtype=torch.float))\n",
        "        self.bias=nn.Parameter(torch.randn(1,\n",
        "                                           requires_grad=True,\n",
        "                                           dtype=torch.float))\n",
        "\n",
        "    def forward(self,x:torch.Tensor):\n",
        "        return self.weights*x+self.bias"
      ]
    },
    {
      "cell_type": "code",
      "execution_count": 50,
      "id": "7deee83f-7263-4852-9ce5-9d88e1ac752d",
      "metadata": {
        "colab": {
          "base_uri": "https://localhost:8080/"
        },
        "id": "7deee83f-7263-4852-9ce5-9d88e1ac752d",
        "outputId": "7681b476-1bd7-4fef-d5d3-6c36691411b2"
      },
      "outputs": [
        {
          "output_type": "execute_result",
          "data": {
            "text/plain": [
              "[Parameter containing:\n",
              " tensor([0.3367], requires_grad=True),\n",
              " Parameter containing:\n",
              " tensor([0.1288], requires_grad=True)]"
            ]
          },
          "metadata": {},
          "execution_count": 50
        }
      ],
      "source": [
        "torch.manual_seed(42)\n",
        "Model_0=LinearRegressionModel()\n",
        "list(Model_0.parameters())"
      ]
    },
    {
      "cell_type": "code",
      "execution_count": 51,
      "id": "8959e871-fb15-4d27-896a-0a5558c7d767",
      "metadata": {
        "colab": {
          "base_uri": "https://localhost:8080/"
        },
        "id": "8959e871-fb15-4d27-896a-0a5558c7d767",
        "outputId": "c3a847e3-eb3a-49b9-c5df-d44ab5b73243"
      },
      "outputs": [
        {
          "output_type": "execute_result",
          "data": {
            "text/plain": [
              "OrderedDict([('weights', tensor([0.3367])), ('bias', tensor([0.1288]))])"
            ]
          },
          "metadata": {},
          "execution_count": 51
        }
      ],
      "source": [
        "Model_0.state_dict()"
      ]
    },
    {
      "cell_type": "code",
      "source": [
        "with torch.inference_mode():\n",
        "  y_preds=Model_0(X_test)\n",
        "y_preds"
      ],
      "metadata": {
        "colab": {
          "base_uri": "https://localhost:8080/"
        },
        "id": "t9Yj__djBr1q",
        "outputId": "26316227-8a7e-4f61-876c-f45c18d408ec"
      },
      "id": "t9Yj__djBr1q",
      "execution_count": 52,
      "outputs": [
        {
          "output_type": "execute_result",
          "data": {
            "text/plain": [
              "tensor([[0.3982],\n",
              "        [0.4049],\n",
              "        [0.4116],\n",
              "        [0.4184],\n",
              "        [0.4251],\n",
              "        [0.4318],\n",
              "        [0.4386],\n",
              "        [0.4453],\n",
              "        [0.4520],\n",
              "        [0.4588]])"
            ]
          },
          "metadata": {},
          "execution_count": 52
        }
      ]
    },
    {
      "cell_type": "code",
      "source": [
        "y_test"
      ],
      "metadata": {
        "colab": {
          "base_uri": "https://localhost:8080/"
        },
        "id": "8r8vO4vkD3ZH",
        "outputId": "b87d767a-90e0-473f-853e-125f04ebc101"
      },
      "id": "8r8vO4vkD3ZH",
      "execution_count": 53,
      "outputs": [
        {
          "output_type": "execute_result",
          "data": {
            "text/plain": [
              "tensor([[0.8600],\n",
              "        [0.8740],\n",
              "        [0.8880],\n",
              "        [0.9020],\n",
              "        [0.9160],\n",
              "        [0.9300],\n",
              "        [0.9440],\n",
              "        [0.9580],\n",
              "        [0.9720],\n",
              "        [0.9860]])"
            ]
          },
          "metadata": {},
          "execution_count": 53
        }
      ]
    },
    {
      "cell_type": "code",
      "source": [
        "plot_predictions(predictions=y_preds)"
      ],
      "metadata": {
        "colab": {
          "base_uri": "https://localhost:8080/",
          "height": 599
        },
        "id": "svp8zxN7EAG3",
        "outputId": "bf042d81-d393-476f-c88d-fbdc1fe230d8"
      },
      "id": "svp8zxN7EAG3",
      "execution_count": 54,
      "outputs": [
        {
          "output_type": "display_data",
          "data": {
            "text/plain": [
              "<Figure size 1000x700 with 1 Axes>"
            ],
            "image/png": "[encoded data removed]"
          },
          "metadata": {}
        }
      ]
    },
    {
      "cell_type": "code",
      "source": [
        "##Train a model\n",
        "## unknown parameters to known parameters(poor to good representation)\n",
        "\n",
        "Model_0.state_dict()"
      ],
      "metadata": {
        "colab": {
          "base_uri": "https://localhost:8080/"
        },
        "id": "YyvHuHRjEH8e",
        "outputId": "2e376732-2c2b-4df4-c53f-7c6c8e4075a7"
      },
      "id": "YyvHuHRjEH8e",
      "execution_count": 55,
      "outputs": [
        {
          "output_type": "execute_result",
          "data": {
            "text/plain": [
              "OrderedDict([('weights', tensor([0.3367])), ('bias', tensor([0.1288]))])"
            ]
          },
          "metadata": {},
          "execution_count": 55
        }
      ]
    },
    {
      "cell_type": "code",
      "source": [
        "## setup a loss function\n",
        "loss_fn=nn.L1Loss()\n",
        "\n",
        "\n",
        "## setup an optimizer\n",
        "\n",
        "optimizer=torch.optim.SGD(params=Model_0.parameters(),lr=0.01)"
      ],
      "metadata": {
        "id": "II1iNkbjkxbz"
      },
      "id": "II1iNkbjkxbz",
      "execution_count": 56,
      "outputs": []
    },
    {
      "cell_type": "code",
      "source": [
        "## training loop building and testing loop\n",
        "print(loss_fn)\n"
      ],
      "metadata": {
        "colab": {
          "base_uri": "https://localhost:8080/"
        },
        "id": "ZtTxrjKcovsa",
        "outputId": "8dd31925-c3d0-43c6-8d5e-62ef2b0af798"
      },
      "id": "ZtTxrjKcovsa",
      "execution_count": 57,
      "outputs": [
        {
          "output_type": "stream",
          "name": "stdout",
          "text": [
            "L1Loss()\n"
          ]
        }
      ]
    },
    {
      "cell_type": "code",
      "source": [
        "torch.manual_seed(42)\n",
        "\n",
        "epochs=200\n",
        "\n",
        "## Tracking experiment\n",
        "epoch_count=[]\n",
        "loss_values=[]\n",
        "test_loss_values=[]\n",
        "\n",
        "\n",
        "### training\n",
        "## 0. loop through data\n",
        "\n",
        "for epoch in range(epochs):\n",
        "    Model_0.train()\n",
        "    ## 1.forwar pass\n",
        "    y_pred=Model_0(X_train)\n",
        "    ##2. calculate the loss\n",
        "    loss=loss_fn(y_pred,y_train)\n",
        "    ##3.optimizer zero grad\n",
        "    optimizer.zero_grad()\n",
        "\n",
        "    ##4. backpropagation\n",
        "    loss.backward()\n",
        "\n",
        "    ## 5.step the optimizer\n",
        "    optimizer.step()\n",
        "\n",
        "    Model_0.eval()\n",
        "\n",
        "    with torch.inference_mode():\n",
        "        ## 1.forward pass\n",
        "        test_pred=Model_0(X_test)\n",
        "        test_loss=loss_fn(test_pred,y_test)\n",
        "        if epoch%10==0:\n",
        "            epoch_count.append(epoch)\n",
        "            loss_values.append(loss)\n",
        "            test_loss_values.append(test_loss)\n",
        "            print(f\"epoch: {epoch} | loss: {loss} | test_loss: {test_loss}\")\n",
        "            print(Model_0.state_dict())\n"
      ],
      "metadata": {
        "colab": {
          "base_uri": "https://localhost:8080/"
        },
        "id": "5n-KbU_lo-hM",
        "outputId": "e412df61-e6bc-44e9-8c65-2d1865f4a5a9"
      },
      "id": "5n-KbU_lo-hM",
      "execution_count": 59,
      "outputs": [
        {
          "output_type": "stream",
          "name": "stdout",
          "text": [
            "epoch: 0 | loss: 0.024458957836031914 | test_loss: 0.05646304413676262\n",
            "OrderedDict([('weights', tensor([0.5800])), ('bias', tensor([0.3503]))])\n",
            "epoch: 10 | loss: 0.021020207554101944 | test_loss: 0.04819049686193466\n",
            "OrderedDict([('weights', tensor([0.5972])), ('bias', tensor([0.3433]))])\n",
            "epoch: 20 | loss: 0.01758546568453312 | test_loss: 0.04060482233762741\n",
            "OrderedDict([('weights', tensor([0.6141])), ('bias', tensor([0.3358]))])\n",
            "epoch: 30 | loss: 0.014155393466353416 | test_loss: 0.03233227878808975\n",
            "OrderedDict([('weights', tensor([0.6313])), ('bias', tensor([0.3288]))])\n",
            "epoch: 40 | loss: 0.010716589167714119 | test_loss: 0.024059748277068138\n",
            "OrderedDict([('weights', tensor([0.6485])), ('bias', tensor([0.3218]))])\n",
            "epoch: 50 | loss: 0.0072835334576666355 | test_loss: 0.016474086791276932\n",
            "OrderedDict([('weights', tensor([0.6654])), ('bias', tensor([0.3143]))])\n",
            "epoch: 60 | loss: 0.0038517764769494534 | test_loss: 0.008201557211577892\n",
            "OrderedDict([('weights', tensor([0.6826])), ('bias', tensor([0.3073]))])\n",
            "epoch: 70 | loss: 0.008932482451200485 | test_loss: 0.005023092031478882\n",
            "OrderedDict([('weights', tensor([0.6951])), ('bias', tensor([0.2993]))])\n",
            "epoch: 80 | loss: 0.008932482451200485 | test_loss: 0.005023092031478882\n",
            "OrderedDict([('weights', tensor([0.6951])), ('bias', tensor([0.2993]))])\n",
            "epoch: 90 | loss: 0.008932482451200485 | test_loss: 0.005023092031478882\n",
            "OrderedDict([('weights', tensor([0.6951])), ('bias', tensor([0.2993]))])\n",
            "epoch: 100 | loss: 0.008932482451200485 | test_loss: 0.005023092031478882\n",
            "OrderedDict([('weights', tensor([0.6951])), ('bias', tensor([0.2993]))])\n",
            "epoch: 110 | loss: 0.008932482451200485 | test_loss: 0.005023092031478882\n",
            "OrderedDict([('weights', tensor([0.6951])), ('bias', tensor([0.2993]))])\n",
            "epoch: 120 | loss: 0.008932482451200485 | test_loss: 0.005023092031478882\n",
            "OrderedDict([('weights', tensor([0.6951])), ('bias', tensor([0.2993]))])\n",
            "epoch: 130 | loss: 0.008932482451200485 | test_loss: 0.005023092031478882\n",
            "OrderedDict([('weights', tensor([0.6951])), ('bias', tensor([0.2993]))])\n",
            "epoch: 140 | loss: 0.008932482451200485 | test_loss: 0.005023092031478882\n",
            "OrderedDict([('weights', tensor([0.6951])), ('bias', tensor([0.2993]))])\n",
            "epoch: 150 | loss: 0.008932482451200485 | test_loss: 0.005023092031478882\n",
            "OrderedDict([('weights', tensor([0.6951])), ('bias', tensor([0.2993]))])\n",
            "epoch: 160 | loss: 0.008932482451200485 | test_loss: 0.005023092031478882\n",
            "OrderedDict([('weights', tensor([0.6951])), ('bias', tensor([0.2993]))])\n",
            "epoch: 170 | loss: 0.008932482451200485 | test_loss: 0.005023092031478882\n",
            "OrderedDict([('weights', tensor([0.6951])), ('bias', tensor([0.2993]))])\n",
            "epoch: 180 | loss: 0.008932482451200485 | test_loss: 0.005023092031478882\n",
            "OrderedDict([('weights', tensor([0.6951])), ('bias', tensor([0.2993]))])\n",
            "epoch: 190 | loss: 0.008932482451200485 | test_loss: 0.005023092031478882\n",
            "OrderedDict([('weights', tensor([0.6951])), ('bias', tensor([0.2993]))])\n"
          ]
        }
      ]
    },
    {
      "cell_type": "code",
      "source": [
        "## plot loss curves\n",
        "plt.plot(epoch_count,torch.tensor(loss_values).numpy(),label=\"train Loss\")\n",
        "plt.plot(epoch_count,test_loss_values,label=\"test Loss\")\n",
        "plt.title(\"Loss curves\")\n",
        "plt.ylabel(\"Loss\")\n",
        "plt.xlabel(\"Epochs\")\n",
        "plt.legend();"
      ],
      "metadata": {
        "colab": {
          "base_uri": "https://localhost:8080/",
          "height": 472
        },
        "id": "iqCI2aHzF_X7",
        "outputId": "01de60dd-7131-4532-8472-e945526544aa"
      },
      "id": "iqCI2aHzF_X7",
      "execution_count": 64,
      "outputs": [
        {
          "output_type": "display_data",
          "data": {
            "text/plain": [
              "<Figure size 640x480 with 1 Axes>"
            ],
            "image/png": "[encoded data removed]"
          },
          "metadata": {}
        }
      ]
    },
    {
      "cell_type": "code",
      "source": [
        "with torch.inference_mode():\n",
        "  y_preds_new=Model_0(X_test)\n",
        "y_preds"
      ],
      "metadata": {
        "colab": {
          "base_uri": "https://localhost:8080/"
        },
        "id": "FnCtExlfApCa",
        "outputId": "b0d4bdac-1899-4a13-d752-3901b1545e0b"
      },
      "id": "FnCtExlfApCa",
      "execution_count": 60,
      "outputs": [
        {
          "output_type": "execute_result",
          "data": {
            "text/plain": [
              "tensor([[0.3982],\n",
              "        [0.4049],\n",
              "        [0.4116],\n",
              "        [0.4184],\n",
              "        [0.4251],\n",
              "        [0.4318],\n",
              "        [0.4386],\n",
              "        [0.4453],\n",
              "        [0.4520],\n",
              "        [0.4588]])"
            ]
          },
          "metadata": {},
          "execution_count": 60
        }
      ]
    },
    {
      "cell_type": "code",
      "source": [
        "plot_predictions(predictions=y_preds_new)"
      ],
      "metadata": {
        "colab": {
          "base_uri": "https://localhost:8080/",
          "height": 599
        },
        "id": "gMh-rPvsJ45P",
        "outputId": "ee3989ea-a447-413b-c1a0-309637d7891a"
      },
      "id": "gMh-rPvsJ45P",
      "execution_count": 61,
      "outputs": [
        {
          "output_type": "display_data",
          "data": {
            "text/plain": [
              "<Figure size 1000x700 with 1 Axes>"
            ],
            "image/png": "[encoded data removed]"
          },
          "metadata": {}
        }
      ]
    },
    {
      "cell_type": "code",
      "source": [
        "Model_0.state_dict()"
      ],
      "metadata": {
        "colab": {
          "base_uri": "https://localhost:8080/"
        },
        "id": "4_7Bks-uFSzR",
        "outputId": "4e1e8754-d7ef-4dd5-821e-96af1e5d49ce"
      },
      "id": "4_7Bks-uFSzR",
      "execution_count": 62,
      "outputs": [
        {
          "output_type": "execute_result",
          "data": {
            "text/plain": [
              "OrderedDict([('weights', tensor([0.6990])), ('bias', tensor([0.3093]))])"
            ]
          },
          "metadata": {},
          "execution_count": 62
        }
      ]
    },
    {
      "cell_type": "code",
      "source": [],
      "metadata": {
        "id": "8S9u5-qdI3Vj"
      },
      "id": "8S9u5-qdI3Vj",
      "execution_count": 38,
      "outputs": []
    }
  ],
  "metadata": {
    "kernelspec": {
      "display_name": "Python 3 (ipykernel)",
      "language": "python",
      "name": "python3"
    },
    "language_info": {
      "codemirror_mode": {
        "name": "ipython",
        "version": 3
      },
      "file_extension": ".py",
      "mimetype": "text/x-python",
      "name": "python",
      "nbconvert_exporter": "python",
      "pygments_lexer": "ipython3",
      "version": "3.11.7"
    },
    "colab": {
      "provenance": [],
      "include_colab_link": true
    }
  },
  "nbformat": 4,
  "nbformat_minor": 5
}